{
 "cells": [
  {
   "cell_type": "code",
   "execution_count": 1,
   "id": "9fca65f3",
   "metadata": {},
   "outputs": [
    {
     "name": "stderr",
     "output_type": "stream",
     "text": [
      "C:\\Users\\david\\AppData\\Local\\Programs\\Python\\Python310\\lib\\site-packages\\tqdm\\auto.py:22: TqdmWarning: IProgress not found. Please update jupyter and ipywidgets. See https://ipywidgets.readthedocs.io/en/stable/user_install.html\n",
      "  from .autonotebook import tqdm as notebook_tqdm\n"
     ]
    },
    {
     "ename": "ModuleNotFoundError",
     "evalue": "No module named 'sklearn'",
     "output_type": "error",
     "traceback": [
      "\u001b[1;31m---------------------------------------------------------------------------\u001b[0m",
      "\u001b[1;31mModuleNotFoundError\u001b[0m                       Traceback (most recent call last)",
      "Cell \u001b[1;32mIn[1], line 24\u001b[0m\n\u001b[0;32m     22\u001b[0m \u001b[38;5;28;01mfrom\u001b[39;00m  \u001b[38;5;21;01mtensorflow\u001b[39;00m \u001b[38;5;28;01mimport\u001b[39;00m keras\n\u001b[0;32m     23\u001b[0m \u001b[38;5;28;01mimport\u001b[39;00m \u001b[38;5;21;01mitertools\u001b[39;00m\n\u001b[1;32m---> 24\u001b[0m \u001b[38;5;28;01mfrom\u001b[39;00m \u001b[38;5;21;01msklearn\u001b[39;00m\u001b[38;5;21;01m.\u001b[39;00m\u001b[38;5;21;01mmetrics\u001b[39;00m \u001b[38;5;28;01mimport\u001b[39;00m precision_score, accuracy_score, recall_score, confusion_matrix, ConfusionMatrixDisplay\n\u001b[0;32m     26\u001b[0m get_ipython()\u001b[38;5;241m.\u001b[39mrun_line_magic(\u001b[38;5;124m'\u001b[39m\u001b[38;5;124mmatplotlib\u001b[39m\u001b[38;5;124m'\u001b[39m, \u001b[38;5;124m'\u001b[39m\u001b[38;5;124minline\u001b[39m\u001b[38;5;124m'\u001b[39m)\n",
      "\u001b[1;31mModuleNotFoundError\u001b[0m: No module named 'sklearn'"
     ]
    }
   ],
   "source": [
    "import requests\n",
    "import pandas as pd\n",
    "import io, base64\n",
    "from PIL import Image\n",
    "\n",
    "import os\n",
    "import glob\n",
    "\n",
    "import numpy as np              # for numerical computationss\n",
    "import seaborn as sns\n",
    "import torch                    # Pytorch module \n",
    "import matplotlib.pyplot as plt # for plotting informations on graph and images using tensors\n",
    "import torch.nn as nn           # for creating  neural networks\n",
    "from torch.utils.data import DataLoader # for dataloaders \n",
    "from PIL import Image           # for checking images\n",
    "import torch.nn.functional as F # for functions for calculating loss\n",
    "import torchvision.transforms as transforms   # for transforming images into tensors \n",
    "from torchvision.utils import make_grid       # for data checking\n",
    "from torchvision.datasets import ImageFolder  # for working with classes and images\n",
    "from torchsummary import summary              # for getting the summary of our model\n",
    "import tensorflow as ts \n",
    "from  tensorflow import keras\n",
    "import itertools\n",
    "from sklearn.metrics import precision_score, accuracy_score, recall_score, confusion_matrix, ConfusionMatrixDisplay\n",
    "\n",
    "%matplotlib inline"
   ]
  },
  {
   "cell_type": "code",
   "execution_count": 2,
   "id": "41edf5fc",
   "metadata": {},
   "outputs": [],
   "source": []
  },
  {
   "cell_type": "markdown",
   "id": "521d828d",
   "metadata": {},
   "source": [
    "### Take images with no result from webhost"
   ]
  },
  {
   "cell_type": "code",
   "execution_count": 3,
   "id": "21ba252a",
   "metadata": {},
   "outputs": [],
   "source": [
    "url = 'https://agrodronesdelcampo.000webhostapp.com/ver_img.php?'\n",
    "myobj = {'user': 'all'}\n",
    "headers = {'Content-Type': 'application/x-www-form-urlencoded'}\n",
    "x = requests.request(\"POST\",url, data = myobj, headers=headers)\n",
    "\n",
    "data =x.json()"
   ]
  },
  {
   "cell_type": "code",
   "execution_count": 4,
   "id": "ccece9a4",
   "metadata": {},
   "outputs": [],
   "source": [
    "df = pd.DataFrame(data)"
   ]
  },
  {
   "cell_type": "code",
   "execution_count": 5,
   "id": "4aed9a92",
   "metadata": {},
   "outputs": [
    {
     "data": {
      "text/html": [
       "<div>\n",
       "<style scoped>\n",
       "    .dataframe tbody tr th:only-of-type {\n",
       "        vertical-align: middle;\n",
       "    }\n",
       "\n",
       "    .dataframe tbody tr th {\n",
       "        vertical-align: top;\n",
       "    }\n",
       "\n",
       "    .dataframe thead th {\n",
       "        text-align: right;\n",
       "    }\n",
       "</style>\n",
       "<table border=\"1\" class=\"dataframe\">\n",
       "  <thead>\n",
       "    <tr style=\"text-align: right;\">\n",
       "      <th></th>\n",
       "      <th>ID</th>\n",
       "      <th>USERNAME</th>\n",
       "      <th>NAME_IMG</th>\n",
       "      <th>BASE_64</th>\n",
       "      <th>RESULT</th>\n",
       "      <th>CREATED_AT</th>\n",
       "    </tr>\n",
       "  </thead>\n",
       "  <tbody>\n",
       "    <tr>\n",
       "      <th>0</th>\n",
       "      <td>14</td>\n",
       "      <td>ronaldo</td>\n",
       "      <td>hola_michael</td>\n",
       "      <td>/9j/4QBqRXhpZgAATU0AKgAAAAgABAEAAAQAAAABAAABAA...</td>\n",
       "      <td>Corn_(maize)___Common_rust_ 99.9%</td>\n",
       "      <td>2022-12-12 02:44:19</td>\n",
       "    </tr>\n",
       "    <tr>\n",
       "      <th>1</th>\n",
       "      <td>15</td>\n",
       "      <td>ronaldo</td>\n",
       "      <td>hoja_manzana</td>\n",
       "      <td>/9j/4QBqRXhpZgAATU0AKgAAAAgABAEAAAQAAAABAAABAA...</td>\n",
       "      <td>Apple___Apple_scab 97.8%</td>\n",
       "      <td>2022-12-12 02:44:19</td>\n",
       "    </tr>\n",
       "    <tr>\n",
       "      <th>2</th>\n",
       "      <td>16</td>\n",
       "      <td>ronaldo</td>\n",
       "      <td>hoja_de_manzana</td>\n",
       "      <td>/9j/4QBqRXhpZgAATU0AKgAAAAgABAEAAAQAAAABAAABAA...</td>\n",
       "      <td>Apple___Apple_scab 89.8%</td>\n",
       "      <td>2022-12-12 02:45:46</td>\n",
       "    </tr>\n",
       "  </tbody>\n",
       "</table>\n",
       "</div>"
      ],
      "text/plain": [
       "   ID USERNAME         NAME_IMG  \\\n",
       "0  14  ronaldo     hola_michael   \n",
       "1  15  ronaldo     hoja_manzana   \n",
       "2  16  ronaldo  hoja_de_manzana   \n",
       "\n",
       "                                             BASE_64  \\\n",
       "0  /9j/4QBqRXhpZgAATU0AKgAAAAgABAEAAAQAAAABAAABAA...   \n",
       "1  /9j/4QBqRXhpZgAATU0AKgAAAAgABAEAAAQAAAABAAABAA...   \n",
       "2  /9j/4QBqRXhpZgAATU0AKgAAAAgABAEAAAQAAAABAAABAA...   \n",
       "\n",
       "                              RESULT           CREATED_AT  \n",
       "0  Corn_(maize)___Common_rust_ 99.9%  2022-12-12 02:44:19  \n",
       "1           Apple___Apple_scab 97.8%  2022-12-12 02:44:19  \n",
       "2           Apple___Apple_scab 89.8%  2022-12-12 02:45:46  "
      ]
     },
     "execution_count": 5,
     "metadata": {},
     "output_type": "execute_result"
    }
   ],
   "source": [
    "df"
   ]
  },
  {
   "cell_type": "code",
   "execution_count": 6,
   "id": "3577f2da",
   "metadata": {},
   "outputs": [],
   "source": [
    "for index, row in df.iterrows():\n",
    "    if row['RESULT'] == None:\n",
    "        img = Image.open(io.BytesIO(base64.decodebytes(bytes(row['BASE_64'], \"utf-8\"))))\n",
    "        img.save(row['ID']+'.jpg')"
   ]
  },
  {
   "cell_type": "code",
   "execution_count": null,
   "id": "3cdbff77",
   "metadata": {},
   "outputs": [],
   "source": []
  },
  {
   "cell_type": "code",
   "execution_count": null,
   "id": "927f9285",
   "metadata": {},
   "outputs": [],
   "source": []
  },
  {
   "cell_type": "code",
   "execution_count": null,
   "id": "e04c1c0c",
   "metadata": {},
   "outputs": [],
   "source": []
  },
  {
   "cell_type": "markdown",
   "id": "ea3744d6",
   "metadata": {},
   "source": [
    "### Load the model "
   ]
  },
  {
   "cell_type": "code",
   "execution_count": 7,
   "id": "420205d3",
   "metadata": {},
   "outputs": [
    {
     "name": "stdout",
     "output_type": "stream",
     "text": [
      "Model: \"sequential_5\"\n",
      "_________________________________________________________________\n",
      " Layer (type)                Output Shape              Param #   \n",
      "=================================================================\n",
      " conv2d_46 (Conv2D)          (None, 128, 128, 32)      896       \n",
      "                                                                 \n",
      " conv2d_47 (Conv2D)          (None, 128, 128, 32)      9248      \n",
      "                                                                 \n",
      " max_pooling2d_15 (MaxPoolin  (None, 42, 42, 32)       0         \n",
      " g2D)                                                            \n",
      "                                                                 \n",
      " conv2d_48 (Conv2D)          (None, 42, 42, 64)        18496     \n",
      "                                                                 \n",
      " conv2d_49 (Conv2D)          (None, 42, 42, 64)        36928     \n",
      "                                                                 \n",
      " max_pooling2d_16 (MaxPoolin  (None, 14, 14, 64)       0         \n",
      " g2D)                                                            \n",
      "                                                                 \n",
      " conv2d_50 (Conv2D)          (None, 14, 14, 128)       73856     \n",
      "                                                                 \n",
      " conv2d_51 (Conv2D)          (None, 14, 14, 128)       147584    \n",
      "                                                                 \n",
      " max_pooling2d_17 (MaxPoolin  (None, 4, 4, 128)        0         \n",
      " g2D)                                                            \n",
      "                                                                 \n",
      " conv2d_52 (Conv2D)          (None, 4, 4, 256)         295168    \n",
      "                                                                 \n",
      " conv2d_53 (Conv2D)          (None, 4, 4, 256)         590080    \n",
      "                                                                 \n",
      " conv2d_54 (Conv2D)          (None, 4, 4, 512)         3277312   \n",
      "                                                                 \n",
      " conv2d_55 (Conv2D)          (None, 4, 4, 512)         6554112   \n",
      "                                                                 \n",
      " flatten_5 (Flatten)         (None, 8192)              0         \n",
      "                                                                 \n",
      " dense_10 (Dense)            (None, 1568)              12846624  \n",
      "                                                                 \n",
      " dropout_5 (Dropout)         (None, 1568)              0         \n",
      "                                                                 \n",
      " dense_11 (Dense)            (None, 38)                59622     \n",
      "                                                                 \n",
      "=================================================================\n",
      "Total params: 23,909,926\n",
      "Trainable params: 23,909,926\n",
      "Non-trainable params: 0\n",
      "_________________________________________________________________\n"
     ]
    }
   ],
   "source": [
    "from tensorflow.keras.models import load_model\n",
    "model_3 = keras.models.load_model(\"C:\\\\Users\\\\david\\\\OneDrive\\\\Escritorio\\\\SP2\\\\PLANTS\\\\model_3.h5\")\n",
    "model_3.summary()"
   ]
  },
  {
   "cell_type": "markdown",
   "id": "3d744701",
   "metadata": {},
   "source": [
    "### Test the model with test data"
   ]
  },
  {
   "cell_type": "code",
   "execution_count": 8,
   "id": "04ad9d98",
   "metadata": {},
   "outputs": [
    {
     "ename": "IndexError",
     "evalue": "list index out of range",
     "output_type": "error",
     "traceback": [
      "\u001b[1;31m---------------------------------------------------------------------------\u001b[0m",
      "\u001b[1;31mIndexError\u001b[0m                                Traceback (most recent call last)",
      "Cell \u001b[1;32mIn[8], line 19\u001b[0m\n\u001b[0;32m     17\u001b[0m files \u001b[38;5;241m=\u001b[39m [os\u001b[38;5;241m.\u001b[39mpath\u001b[38;5;241m.\u001b[39mjoin(directory,p) \u001b[38;5;28;01mfor\u001b[39;00m p \u001b[38;5;129;01min\u001b[39;00m \u001b[38;5;28msorted\u001b[39m(os\u001b[38;5;241m.\u001b[39mlistdir(directory))]\n\u001b[0;32m     18\u001b[0m \u001b[38;5;28;01mfor\u001b[39;00m i \u001b[38;5;129;01min\u001b[39;00m \u001b[38;5;28mrange\u001b[39m(\u001b[38;5;241m0\u001b[39m,\u001b[38;5;241m40\u001b[39m):\n\u001b[1;32m---> 19\u001b[0m     image_path \u001b[38;5;241m=\u001b[39m \u001b[43mfiles\u001b[49m\u001b[43m[\u001b[49m\u001b[43mi\u001b[49m\u001b[43m]\u001b[49m\n\u001b[0;32m     20\u001b[0m     \u001b[38;5;28mprint\u001b[39m(image_path)\n\u001b[0;32m     21\u001b[0m     start \u001b[38;5;241m=\u001b[39m image_path\u001b[38;5;241m.\u001b[39mfind(\u001b[38;5;124m\"\u001b[39m\u001b[38;5;124mAPI\u001b[39m\u001b[38;5;130;01m\\\\\u001b[39;00m\u001b[38;5;124m\"\u001b[39m) \u001b[38;5;241m+\u001b[39m \u001b[38;5;28mlen\u001b[39m(\u001b[38;5;124m\"\u001b[39m\u001b[38;5;124mAPI\u001b[39m\u001b[38;5;130;01m\\\\\u001b[39;00m\u001b[38;5;124m\"\u001b[39m)\n",
      "\u001b[1;31mIndexError\u001b[0m: list index out of range"
     ]
    }
   ],
   "source": [
    "Li = ['Apple___Apple_scab', 'Apple___Black_rot', 'Apple___Cedar_apple_rust', 'Apple___healthy', 'Blueberry___healthy', 'Cherry_(including_sour)___Powdery_mildew', 'Cherry_(including_sour)___healthy', 'Corn_(maize)___Cercospora_leaf_spot Gray_leaf_spot', \n",
    "      'Corn_(maize)___Common_rust_', 'Corn_(maize)___Northern_Leaf_Blight', 'Corn_(maize)___healthy', \n",
    "      'Grape___Black_rot', 'Grape___Esca_(Black_Measles)', 'Grape___Leaf_blight_(Isariopsis_Leaf_Spot)', \n",
    "      'Grape___healthy', 'Orange___Haunglongbing_(Citrus_greening)', 'Peach___Bacterial_spot', 'Peach___healthy', \n",
    "      'Pepper,_bell___Bacterial_spot', 'Pepper,_bell___healthy', 'Potato___Early_blight', 'Potato___Late_blight', \n",
    "      'Potato___healthy', 'Raspberry___healthy', 'Soybean___healthy', 'Squash___Powdery_mildew', 'Strawberry___Leaf_scorch',\n",
    "      'Strawberry___healthy', 'Tomato___Bacterial_spot', 'Tomato___Early_blight', 'Tomato___Late_blight', \n",
    "      'Tomato___Leaf_Mold', 'Tomato___Septoria_leaf_spot', 'Tomato___Spider_mites Two-spotted_spider_mite',\n",
    "      'Tomato___Target_Spot', 'Tomato___Tomato_Yellow_Leaf_Curl_Virus', 'Tomato___Tomato_mosaic_virus', 'Tomato___healthy']\n",
    "\n",
    "# predicting an image\n",
    "import os\n",
    "import matplotlib.pyplot as plt\n",
    "from keras.preprocessing import image\n",
    "import numpy as np\n",
    "directory=\"C:\\\\Users\\\\david\\\\OneDrive\\\\Escritorio\\\\SP2\\\\PLANTS\\\\API\"\n",
    "files = [os.path.join(directory,p) for p in sorted(os.listdir(directory))]\n",
    "for i in range(0,40):\n",
    "    image_path = files[i]\n",
    "    print(image_path)\n",
    "    start = image_path.find(\"API\\\\\") + len(\"API\\\\\")\n",
    "\n",
    "    end = image_path.find(\".jpg\")\n",
    "\n",
    "    id_img = image_path[start:end]\n",
    "\n",
    "    print(id_img)\n",
    "    new_img =keras.utils.load_img(image_path, target_size=(128, 128))\n",
    "    img = keras.utils.img_to_array(new_img)\n",
    "    img = np.expand_dims(img, axis=0)\n",
    "    img = img/255\n",
    "    prediction = model_3.predict(img)\n",
    "    probabilty = prediction.flatten()\n",
    "    max_prob = probabilty.max()*100\n",
    "    index=prediction.argmax(axis=-1)[0]\n",
    "    class_name = Li[index]\n",
    "    #ploting image with predicted class name        \n",
    "    plt.figure(figsize = (4,4))\n",
    "    plt.imshow(new_img)\n",
    "    plt.axis('off')\n",
    "    plt.title(class_name+\" \"+ str(max_prob)[0:4]+\"%\")\n",
    "    plt.show()\n",
    "    \n",
    "    url = 'https://agrodronesdelcampo.000webhostapp.com/trabajar_img.php?'\n",
    "    myobj = {'id': id_img,\n",
    "             'res':class_name+\" \"+ str(max_prob)[0:4]+\"%\"}\n",
    "    headers = {'Content-Type': 'application/x-www-form-urlencoded'}\n",
    "    x = requests.request(\"POST\",url, data = myobj, headers=headers)"
   ]
  },
  {
   "cell_type": "markdown",
   "id": "dceb7a0b",
   "metadata": {},
   "source": [
    "### DELETE ALL IMAGES"
   ]
  },
  {
   "cell_type": "code",
   "execution_count": 9,
   "id": "69e97c3f",
   "metadata": {},
   "outputs": [],
   "source": [
    "files = glob.glob('C:\\\\Users\\\\david\\\\OneDrive\\\\Escritorio\\\\SP2\\\\PLANTS\\\\API\\\\*')\n",
    "for f in files:\n",
    "    os.remove(f)"
   ]
  },
  {
   "cell_type": "code",
   "execution_count": null,
   "id": "93280de8",
   "metadata": {},
   "outputs": [],
   "source": []
  },
  {
   "cell_type": "code",
   "execution_count": null,
   "id": "0a1afe2b",
   "metadata": {},
   "outputs": [],
   "source": []
  },
  {
   "cell_type": "code",
   "execution_count": null,
   "id": "9bb275a9",
   "metadata": {},
   "outputs": [],
   "source": []
  },
  {
   "cell_type": "code",
   "execution_count": null,
   "id": "2d8daa3c",
   "metadata": {},
   "outputs": [],
   "source": []
  }
 ],
 "metadata": {
  "kernelspec": {
   "display_name": "Python 3 (ipykernel)",
   "language": "python",
   "name": "python3"
  },
  "language_info": {
   "codemirror_mode": {
    "name": "ipython",
    "version": 3
   },
   "file_extension": ".py",
   "mimetype": "text/x-python",
   "name": "python",
   "nbconvert_exporter": "python",
   "pygments_lexer": "ipython3",
   "version": "3.10.8"
  }
 },
 "nbformat": 4,
 "nbformat_minor": 5
}
